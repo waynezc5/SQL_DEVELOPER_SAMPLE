{
    "metadata": {
        "kernelspec": {
            "name": "SQL",
            "display_name": "SQL",
            "language": "sql"
        },
        "language_info": {
            "name": "sql",
            "version": ""
        }
    },
    "nbformat_minor": 2,
    "nbformat": 4,
    "cells": [
        {
            "cell_type": "markdown",
            "source": [
                "For the second half of FY23 (Apr - Sep), what is our gross charge split for peds (\\<18 yrs old on date of admit) vs other patients?"
            ],
            "metadata": {
                "azdata_cell_guid": "81c454ef-e365-447a-89b9-d7625d89652c"
            },
            "attachments": {}
        },
        {
            "cell_type": "code",
            "source": [
                "/*\r\n",
                "    Checked the BIRTH_DT column for NULL values and found none. Thus the INNER JOIN vs a LEFT JOIN.\r\n",
                "    The CASE statements are used to determine if the patient is a pediatric patient or not. If the patient is 18 years or older, they are considered an adult.\r\n",
                "    Because the question is asking about FY dates, used the PostingDate column to filter the data.\r\n",
                "*/\r\n",
                "\r\n",
                "SELECT\r\n",
                "    CASE\r\n",
                "        WHEN DATEDIFF(year, P.BIRTH_DT, AN.ACCT_ADMIT_DT) >= 18 THEN 'Other Patients'\r\n",
                "        ELSE 'Peds (<18 yrs old)'\r\n",
                "    END AS PatientType,\r\n",
                "    SUM(T.LineCharges) AS TotalCharges\r\n",
                "FROM\r\n",
                "    dbo.Transactions AS T\r\n",
                "    INNER JOIN dbo.Account_Number AS AN \r\n",
                "        ON T.ACCOUNT_NUMBER = AN.ACCOUNT_NUMBER\r\n",
                "    INNER JOIN dbo.Patient AS P \r\n",
                "        ON AN.MRN = P.MRN\r\n",
                "WHERE\r\n",
                "    T.PostingDate >= '2023-04-01' -- Start date of the second half of FY23 (April 1, 2023)\r\n",
                "    AND T.PostingDate < '2023-10-01' -- End date of the second half of FY23 (September 30, 2023)\r\n",
                "GROUP BY\r\n",
                "    CASE\r\n",
                "        WHEN DATEDIFF(year, P.BIRTH_DT, AN.ACCT_ADMIT_DT) >= 18 THEN 'Other Patients'\r\n",
                "        ELSE 'Peds (<18 yrs old)'\r\n",
                "    END;"
            ],
            "metadata": {
                "azdata_cell_guid": "02e561a1-bdbf-473d-89ab-b9446692cbc1",
                "language": "sql"
            },
            "outputs": [
                {
                    "output_type": "display_data",
                    "data": {
                        "text/html": "(2 rows affected)"
                    },
                    "metadata": {}
                },
                {
                    "output_type": "display_data",
                    "data": {
                        "text/html": "Total execution time: 00:00:00.071"
                    },
                    "metadata": {}
                },
                {
                    "output_type": "execute_result",
                    "metadata": {},
                    "execution_count": 22,
                    "data": {
                        "application/vnd.dataresource+json": {
                            "schema": {
                                "fields": [
                                    {
                                        "name": "PatientType"
                                    },
                                    {
                                        "name": "TotalCharges"
                                    }
                                ]
                            },
                            "data": [
                                {
                                    "PatientType": "Peds (<18 yrs old)",
                                    "TotalCharges": "7398025.83"
                                },
                                {
                                    "PatientType": "Other Patients",
                                    "TotalCharges": "22954497.97"
                                }
                            ]
                        },
                        "text/html": [
                            "<table>",
                            "<tr><th>PatientType</th><th>TotalCharges</th></tr>",
                            "<tr><td>Peds (&lt;18 yrs old)</td><td>7398025.83</td></tr>",
                            "<tr><td>Other Patients</td><td>22954497.97</td></tr>",
                            "</table>"
                        ]
                    }
                }
            ],
            "execution_count": 22
        },
        {
            "cell_type": "markdown",
            "source": [
                "What revenue code incurred the most gross charges for patients over 65 years old and insured by a Medicare product in FY23 (Oct - Sep)?"
            ],
            "metadata": {
                "language": "sql",
                "azdata_cell_guid": "105a8420-d6d2-4c1e-aa8b-e743e1bc9750"
            },
            "attachments": {}
        },
        {
            "cell_type": "code",
            "source": [
                "/*\r\n",
                "\tThe assumption in this query is that 'Medicare' in the AN.PRIM_FIN_CLASS_NM  is the correct financial class grouping for Medicare products.\r\n",
                "\t'Medicare Managed' or Advantage Plans, is a potential canidate to include in the query but further clarification would be needed.\r\n",
                "\r\n",
                "\tIf I include 'Medicare' and 'Medicare Managed' in the query, the rev code that included the most gross charges is rev code 0301 - Laboratory - Clinical Chemistry. Total charges of 426462.15.\r\n",
                "\t\r\n",
                "\tOtherwise with just 'Medicare' it's Revcode 202 - Intensive Care Unit. Total charges of 354744.00.\r\n",
                "*/\r\n",
                "\r\n",
                "SELECT TOP (1)\r\n",
                "\tT.Revcode,\r\n",
                "\tRC.REVENUE_CODE_NAME AS RevenueCodeName,\r\n",
                "\tSUM(T.LineCharges) AS TotalCharges\r\n",
                "FROM \r\n",
                "\tdbo.Transactions AS T\r\n",
                "\tINNER JOIN dbo.Account_Number AS AN\r\n",
                "\t\tON T.ACCOUNT_NUMBER = AN.ACCOUNT_NUMBER\r\n",
                "\tINNER JOIN dbo.Patient AS P\r\n",
                "\t\tON AN.MRN = P.MRN\r\n",
                "\tINNER JOIN dbo.Rev_Codes AS RC\r\n",
                "\t\tON T.Revcode = RC.REVENUE_CODE\r\n",
                "WHERE \r\n",
                "\tP.BIRTH_DT <= DATEADD(year, -65, GETDATE()) --Patients over 65\r\n",
                "\tAND AN.PRIM_FIN_CLASS_NM = ('Medicare') --Insured by Medicare\r\n",
                "\tAND T.PostingDate >= '2022-10-01' --FY23 start date\r\n",
                "\tAND T.PostingDate < '2023-10-01' --FY23 end date\r\n",
                "GROUP BY \r\n",
                "\tT.Revcode,\r\n",
                "\tRC.REVENUE_CODE_NAME\r\n",
                "ORDER BY \r\n",
                "\tTotalCharges DESC;\r\n",
                ""
            ],
            "metadata": {
                "azdata_cell_guid": "bd2d7aea-bf1d-4459-85bd-1847bb8b93d3",
                "language": "sql"
            },
            "outputs": [
                {
                    "output_type": "display_data",
                    "data": {
                        "text/html": "(1 row affected)"
                    },
                    "metadata": {}
                },
                {
                    "output_type": "display_data",
                    "data": {
                        "text/html": "Total execution time: 00:00:00.164"
                    },
                    "metadata": {}
                },
                {
                    "output_type": "execute_result",
                    "metadata": {},
                    "execution_count": 25,
                    "data": {
                        "application/vnd.dataresource+json": {
                            "schema": {
                                "fields": [
                                    {
                                        "name": "Revcode"
                                    },
                                    {
                                        "name": "RevenueCodeName"
                                    },
                                    {
                                        "name": "TotalCharges"
                                    }
                                ]
                            },
                            "data": [
                                {
                                    "Revcode": "0202",
                                    "RevenueCodeName": "INTENSIVE CARE-MEDICAL",
                                    "TotalCharges": "354744.00"
                                }
                            ]
                        },
                        "text/html": [
                            "<table>",
                            "<tr><th>Revcode</th><th>RevenueCodeName</th><th>TotalCharges</th></tr>",
                            "<tr><td>0202</td><td>INTENSIVE CARE-MEDICAL</td><td>354744.00</td></tr>",
                            "</table>"
                        ]
                    }
                }
            ],
            "execution_count": 25
        },
        {
            "cell_type": "markdown",
            "source": [
                "Which provider generated the most gross charges for female patients in the first half of FY23 (Oct - Mar)?"
            ],
            "metadata": {
                "azdata_cell_guid": "e9a6c86a-0824-4fad-815a-8e1d502b58ba"
            },
            "attachments": {}
        },
        {
            "cell_type": "code",
            "source": [
                "/*\r\n",
                "  Need to create three joins to get to the get the Provider Description column.\r\n",
                "  Because the column VST_PROV_NPI in the Account_Number table is blank for about 5,722 rows, those rows will be discarded when joining on the Provider table with an INNER JOIN.\r\n",
                "  This is not an issue since the the question is asking specifically about the top provider with the most charges. \r\n",
                "*/\r\n",
                "\r\n",
                "SELECT TOP (1)\r\n",
                "    P.[Provider Description] AS ProviderDescription,\r\n",
                "    SUM(T.LineCharges) AS TotalCharges\r\n",
                "FROM\r\n",
                "    dbo.Transactions AS T\r\n",
                "    INNER JOIN dbo.Account_Number AS AN \r\n",
                "\t\t  ON T.ACCOUNT_NUMBER = AN.ACCOUNT_NUMBER\r\n",
                "    INNER JOIN dbo.Patient AS PT \r\n",
                "\t\t  ON AN.MRN = PT.MRN\r\n",
                "    INNER JOIN dbo.Provider AS P \r\n",
                "\t\t  ON AN.VST_PROV_NPI = P.NPI\r\n",
                "WHERE\r\n",
                "\tT.PostingDate >= '2022-10-01' -- Start date of the first half of FY23 (October 1, 2022)\r\n",
                "    AND T.PostingDate < '2023-04-01' -- End date of the first half of FY23 (April 1, 2023)\r\n",
                "    AND PT.SEX = 'F' --Female patients\r\n",
                "GROUP BY\r\n",
                "    P.[Provider Description]\r\n",
                "ORDER BY\r\n",
                "\tTotalCharges DESC;"
            ],
            "metadata": {
                "azdata_cell_guid": "ed89e7e1-d4cd-49b1-a508-d306823b0803",
                "language": "sql"
            },
            "outputs": [
                {
                    "output_type": "display_data",
                    "data": {
                        "text/html": "(1 row affected)"
                    },
                    "metadata": {}
                },
                {
                    "output_type": "display_data",
                    "data": {
                        "text/html": "Total execution time: 00:00:00.130"
                    },
                    "metadata": {}
                },
                {
                    "output_type": "execute_result",
                    "metadata": {},
                    "execution_count": 16,
                    "data": {
                        "application/vnd.dataresource+json": {
                            "schema": {
                                "fields": [
                                    {
                                        "name": "ProviderDescription"
                                    },
                                    {
                                        "name": "TotalCharges"
                                    }
                                ]
                            },
                            "data": [
                                {
                                    "ProviderDescription": "PROV_0951",
                                    "TotalCharges": "187397.97"
                                }
                            ]
                        },
                        "text/html": [
                            "<table>",
                            "<tr><th>ProviderDescription</th><th>TotalCharges</th></tr>",
                            "<tr><td>PROV_0951</td><td>187397.97</td></tr>",
                            "</table>"
                        ]
                    }
                }
            ],
            "execution_count": 16
        },
        {
            "cell_type": "markdown",
            "source": [
                "How many unique patients were admitted to the hospital and incurred a room and board charge (defined via rev code) in FY23?"
            ],
            "metadata": {
                "language": "sql",
                "azdata_cell_guid": "df9b04d2-4107-4968-a06e-5640cb036553"
            },
            "attachments": {}
        },
        {
            "cell_type": "code",
            "source": [
                "/*\r\n",
                "\tDecided to use the Account_Number table to count the total number of unique patients based on the fact it holds the ACCT_ADMIT_DT and the question is specifically asking about admited patients.\r\n",
                "\tNeed to join on the Transactions table and then the Rev_Codes table to get the REVENUE_CODE_NAME to filter on the Room & Board revenue code.\r\n",
                "\tIt is possible for patients to have multiple accounts, so I used the DISTINCT keyword on MRN to only count each patient once.\r\n",
                "\tThere are other ways to filter on the room and board charge. I could have used the LIKE keyword on the [Revcode Desc] in the transactions table. Or I could have used the IN statement\r\n",
                "\ton the Revcode after identifying the correct rev codes. I chose to use the LIKE keyword on the REVENUE_CODE_NAME to show how the tables relate to each other.\r\n",
                "*/\r\n",
                "\r\n",
                "SELECT \r\n",
                "\tCOUNT(DISTINCT AN.MRN) AS UniquePatients\r\n",
                "FROM dbo.Account_Number AS AN\r\n",
                "\tINNER JOIN dbo.Transactions AS T \r\n",
                "\t\tON AN.ACCOUNT_NUMBER = T.ACCOUNT_NUMBER\r\n",
                "\tINNER JOIN dbo.Rev_Codes AS RC \r\n",
                "\t\tON T.Revcode = RC.REVENUE_CODE\r\n",
                "WHERE T.PostingDate >= '2022-10-01' -- Start date of FY23 (October 1, 2022)\r\n",
                "    AND T.PostingDate < '2023-10-01' -- End date of FY23 (October 1, 2023)\r\n",
                "    AND RC.REVENUE_CODE_NAME LIKE 'ROOM & BOARD%';"
            ],
            "metadata": {
                "language": "sql",
                "azdata_cell_guid": "d08e6e28-f24d-4923-9cc2-4d527447266b"
            },
            "outputs": [
                {
                    "output_type": "display_data",
                    "data": {
                        "text/html": "(1 row affected)"
                    },
                    "metadata": {}
                },
                {
                    "output_type": "display_data",
                    "data": {
                        "text/html": "Total execution time: 00:00:00.074"
                    },
                    "metadata": {}
                },
                {
                    "output_type": "execute_result",
                    "metadata": {},
                    "execution_count": 20,
                    "data": {
                        "application/vnd.dataresource+json": {
                            "schema": {
                                "fields": [
                                    {
                                        "name": "UniquePatients"
                                    }
                                ]
                            },
                            "data": [
                                {
                                    "UniquePatients": "375"
                                }
                            ]
                        },
                        "text/html": [
                            "<table>",
                            "<tr><th>UniquePatients</th></tr>",
                            "<tr><td>375</td></tr>",
                            "</table>"
                        ]
                    }
                }
            ],
            "execution_count": 20
        },
        {
            "cell_type": "markdown",
            "source": [
                "What month had the most inpatient account volume where total charges per account were \\>$25,000?"
            ],
            "metadata": {
                "language": "sql",
                "azdata_cell_guid": "4e2c5814-df7c-4544-8c58-9a5fcd9ce64b"
            },
            "attachments": {}
        },
        {
            "cell_type": "code",
            "source": [
                "/*\r\n",
                "  \tA few impotant assumptions in this query. \r\n",
                "  \t\r\n",
                "\tFirst, I assumed ACCT_DICSH_DT as the month column since it's not explicity stated in the question by which date field to utilize. \r\n",
                "\tDepending on which date field is used, the results will be different.\r\n",
                "  \r\n",
                "  \tSecond, I assumed that the TOT_CHGS column for the WHERE statement. The question is focusing on inpatient account volumes and not related to transactions, posting dates, CPT and rev codes, etc.\r\n",
                "\tI believe it was safe to use the TOT_CHGS column as a filter because this total matches the total in the Transactions table.\r\n",
                "  \t\r\n",
                "\tThird, I assumed that the VISIT_BASECLS_NM column is the best column to use for filtering inpatient accounts based on the limited number of options in the column making grouping easier.\t\r\n",
                "*/\r\n",
                "\r\n",
                "SELECT TOP (1)\r\n",
                "\tDATENAME(MONTH, ACCT_DISCH_DT) AS DischargeMonth,\r\n",
                "\tCOUNT(DISTINCT ACCOUNT_NUMBER) AS AccountVolume\r\n",
                "FROM dbo.Account_Number AS AN\r\n",
                "WHERE \r\n",
                "\tTOT_CHGS > 25000\r\n",
                "\tAND VISIT_BASECLS_NM = 'Inpatient'\r\n",
                "GROUP BY\r\n",
                "\tDATENAME(MONTH, ACCT_DISCH_DT)\r\n",
                "ORDER BY AccountVolume DESC;\r\n",
                "\t"
            ],
            "metadata": {
                "language": "sql",
                "azdata_cell_guid": "87fb0fcb-6acf-4570-bf24-dd6b35f065e4"
            },
            "outputs": [
                {
                    "output_type": "display_data",
                    "data": {
                        "text/html": "(1 row affected)"
                    },
                    "metadata": {}
                },
                {
                    "output_type": "display_data",
                    "data": {
                        "text/html": "Total execution time: 00:00:00.028"
                    },
                    "metadata": {}
                },
                {
                    "output_type": "execute_result",
                    "metadata": {},
                    "execution_count": 14,
                    "data": {
                        "application/vnd.dataresource+json": {
                            "schema": {
                                "fields": [
                                    {
                                        "name": "DischargeMonth"
                                    },
                                    {
                                        "name": "AccountVolume"
                                    }
                                ]
                            },
                            "data": [
                                {
                                    "DischargeMonth": "March",
                                    "AccountVolume": "33"
                                }
                            ]
                        },
                        "text/html": [
                            "<table>",
                            "<tr><th>DischargeMonth</th><th>AccountVolume</th></tr>",
                            "<tr><td>March</td><td>33</td></tr>",
                            "</table>"
                        ]
                    }
                }
            ],
            "execution_count": 14
        },
        {
            "cell_type": "markdown",
            "source": [
                "Bonus 1 Create a script that will be accessed by Tableau that includes the following fields: \n",
                "\n",
                "|  |\n",
                "| --- |\n",
                "| Account Number |\n",
                "| Rev Code |\n",
                "| Rev Code Description |\n",
                "| Age at Admission |\n",
                "| Adm Date |\n",
                "| Disch Date |\n",
                "| CPT Code |\n",
                "| Visit Provider |\n",
                "| Visit Provider Description |\n",
                "| Total Charges |"
            ],
            "metadata": {
                "language": "sql",
                "azdata_cell_guid": "c883d438-2be9-48b2-bba2-f9d73bbcb59f"
            },
            "attachments": {}
        },
        {
            "cell_type": "code",
            "source": [
                "/*\r\n",
                "    Create a view called vTableau that will be used to create the Tableau data source. \r\n",
                "    Used a LEFT JOIN on Provider table to ensure that all records from the Transactions and Account_Number tables are included in the view.\r\n",
                "    Alias all columns apporpriately to match the requirements for the question.\r\n",
                "*/\r\n",
                "\r\n",
                "CREATE VIEW dbo.vTableau\r\n",
                "AS\r\n",
                "SELECT\r\n",
                "    AN.ACCOUNT_NUMBER AS [Account Number],\r\n",
                "    T.Revcode AS [Rev Code],\r\n",
                "    T.[RevCode Desc] AS [Revenue Code Description],\r\n",
                "\tDATEDIFF(year, P.BIRTH_DT, AN.ACCT_ADMIT_DT) AS [Age at Admission],\r\n",
                "    AN.ACCT_ADMIT_DT AS [Adm Date],\r\n",
                "    AN.ACCT_DISCH_DT AS [Disch Date],\r\n",
                "    T.CPT AS [CPT Code],\r\n",
                "    PN.[Provider Description] AS [Visit Provider],\r\n",
                "    PN.[EPIC_PROV_TYPE_NM] AS [Visit Provider Description],\r\n",
                "    SUM(T.LineCharges) AS [Total Charges]\r\n",
                "FROM dbo.Transactions AS T\r\n",
                "    INNER JOIN dbo.Account_Number AS AN\r\n",
                "        ON T.ACCOUNT_NUMBER = AN.ACCOUNT_NUMBER\r\n",
                "    LEFT OUTER JOIN dbo.Provider AS PN\r\n",
                "        ON AN.VST_PROV_NPI = PN.NPI\r\n",
                "    INNER JOIN dbo.Patient AS P\r\n",
                "        ON AN.MRN = P.MRN\r\n",
                "GROUP BY \r\n",
                "    AN.ACCOUNT_NUMBER,\r\n",
                "    T.Revcode,\r\n",
                "    T.[RevCode Desc],\r\n",
                "\tP.BIRTH_DT,\r\n",
                "    AN.ACCT_ADMIT_DT,\r\n",
                "    AN.ACCT_DISCH_DT,\r\n",
                "    T.CPT,\r\n",
                "    PN.[Provider Description],\r\n",
                "    PN.[EPIC_PROV_TYPE_NM];\r\n",
                "GO"
            ],
            "metadata": {
                "language": "sql",
                "azdata_cell_guid": "21f8fcb3-4b9a-423d-8fce-248d24397ac2"
            },
            "outputs": [
                {
                    "output_type": "display_data",
                    "data": {
                        "text/html": "Commands completed successfully."
                    },
                    "metadata": {}
                },
                {
                    "output_type": "display_data",
                    "data": {
                        "text/html": "Total execution time: 00:00:00"
                    },
                    "metadata": {}
                }
            ],
            "execution_count": 10
        }
    ]
}