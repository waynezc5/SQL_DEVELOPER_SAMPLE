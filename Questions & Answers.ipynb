{
    "metadata": {
        "kernelspec": {
            "name": "SQL",
            "display_name": "SQL",
            "language": "sql"
        },
        "language_info": {
            "name": "sql",
            "version": ""
        }
    },
    "nbformat_minor": 2,
    "nbformat": 4,
    "cells": [
        {
            "cell_type": "markdown",
            "source": [
                "Question 1\n",
                "\n",
                "For the second half of FY23 (Apr - Sep), what is our gross charge split for peds (\\<18 yrs old on date of admit) vs other patients?"
            ],
            "metadata": {
                "azdata_cell_guid": "81c454ef-e365-447a-89b9-d7625d89652c"
            },
            "attachments": {}
        },
        {
            "cell_type": "markdown",
            "source": [
                "Notes:\n",
                "\n",
                "After verifying the BIRTH\\_DT column for NULL values and finding none, an INNER JOIN was chosen instead of a LEFT JOIN for the join operation.\n",
                "\n",
                "To distinguish between pediatric and adult patients, CASE statements were employed. If the patient's age is 18 years or older, they are categorized as adults.\n",
                "\n",
                "Since the question concerns FY (fiscal year) dates, the PostingDate column was utilized to filter the data appropriately."
            ],
            "metadata": {
                "azdata_cell_guid": "21b67027-a3a0-4494-87fe-eafbb84172f3"
            },
            "attachments": {}
        },
        {
            "cell_type": "code",
            "source": [
                "SELECT\r\n",
                "    CASE\r\n",
                "        WHEN DATEDIFF(year, P.BIRTH_DT, AN.ACCT_ADMIT_DT) >= 18 THEN 'Other Patients'\r\n",
                "        ELSE 'Peds (<18 yrs old)'\r\n",
                "    END AS PatientType,\r\n",
                "    SUM(T.LineCharges) AS TotalCharges\r\n",
                "FROM\r\n",
                "    dbo.Transactions AS T\r\n",
                "    INNER JOIN dbo.Account_Number AS AN \r\n",
                "        ON T.ACCOUNT_NUMBER = AN.ACCOUNT_NUMBER\r\n",
                "    INNER JOIN dbo.Patient AS P \r\n",
                "        ON AN.MRN = P.MRN\r\n",
                "WHERE\r\n",
                "    T.PostingDate >= '2023-04-01'\r\n",
                "    AND T.PostingDate < '2023-10-01'\r\n",
                "GROUP BY\r\n",
                "    CASE\r\n",
                "        WHEN DATEDIFF(year, P.BIRTH_DT, AN.ACCT_ADMIT_DT) >= 18 THEN 'Other Patients'\r\n",
                "        ELSE 'Peds (<18 yrs old)'\r\n",
                "    END;"
            ],
            "metadata": {
                "azdata_cell_guid": "02e561a1-bdbf-473d-89ab-b9446692cbc1",
                "language": "sql"
            },
            "outputs": [
                {
                    "output_type": "display_data",
                    "data": {
                        "text/html": "(2 rows affected)"
                    },
                    "metadata": {}
                },
                {
                    "output_type": "display_data",
                    "data": {
                        "text/html": "Total execution time: 00:00:00.066"
                    },
                    "metadata": {}
                },
                {
                    "output_type": "execute_result",
                    "execution_count": 27,
                    "data": {
                        "application/vnd.dataresource+json": {
                            "schema": {
                                "fields": [
                                    {
                                        "name": "PatientType"
                                    },
                                    {
                                        "name": "TotalCharges"
                                    }
                                ]
                            },
                            "data": [
                                {
                                    "PatientType": "Peds (<18 yrs old)",
                                    "TotalCharges": "7398025.83"
                                },
                                {
                                    "PatientType": "Other Patients",
                                    "TotalCharges": "22954497.97"
                                }
                            ]
                        },
                        "text/html": "<table><tr><th>PatientType</th><th>TotalCharges</th></tr><tr><td>Peds (&lt;18 yrs old)</td><td>7398025.83</td></tr><tr><td>Other Patients</td><td>22954497.97</td></tr></table>"
                    },
                    "metadata": {}
                }
            ],
            "execution_count": 27
        },
        {
            "cell_type": "markdown",
            "source": [
                "Question 2\n",
                "\n",
                "What revenue code incurred the most gross charges for patients over 65 years old and insured by a Medicare product in FY23 (Oct - Sep)?"
            ],
            "metadata": {
                "language": "sql",
                "azdata_cell_guid": "105a8420-d6d2-4c1e-aa8b-e743e1bc9750"
            },
            "attachments": {}
        },
        {
            "cell_type": "markdown",
            "source": [
                "Notes:\n",
                "\n",
                "In this query, the assumption is made that 'Medicare' in the AN.PRIM\\_FIN\\_CLASS\\_NM column represents the correct financial class grouping for Medicare products.\n",
                "\n",
                "There is a potential candidate to include in the query, which is 'Medicare Managed' or Advantage Plans. However, further clarification would be required to determine its inclusion.\n",
                "\n",
                "When both 'Medicare' and 'Medicare Managed' are included in the query, the revenue code with the highest gross charges is 0301 - Laboratory - Clinical Chemistry, with a total of 426,462.15 in charges.\n",
                "\n",
                "Alternatively, when considering only 'Medicare' without 'Medicare Managed', the highest gross charges are associated with Revcode 202 - Intensive Care Unit, totaling 354,744.00 in charges."
            ],
            "metadata": {
                "language": "sql",
                "azdata_cell_guid": "d03937c9-a749-4194-885f-160cb706702a"
            },
            "attachments": {}
        },
        {
            "cell_type": "code",
            "source": [
                "SELECT TOP (1)\r\n",
                "\tT.Revcode,\r\n",
                "\tRC.REVENUE_CODE_NAME AS RevenueCodeName,\r\n",
                "\tSUM(T.LineCharges) AS TotalCharges\r\n",
                "FROM \r\n",
                "\tdbo.Transactions AS T\r\n",
                "\tINNER JOIN dbo.Account_Number AS AN\r\n",
                "\t\tON T.ACCOUNT_NUMBER = AN.ACCOUNT_NUMBER\r\n",
                "\tINNER JOIN dbo.Patient AS P\r\n",
                "\t\tON AN.MRN = P.MRN\r\n",
                "\tINNER JOIN dbo.Rev_Codes AS RC\r\n",
                "\t\tON T.Revcode = RC.REVENUE_CODE\r\n",
                "WHERE \r\n",
                "\tP.BIRTH_DT <= DATEADD(year, -65, GETDATE())\r\n",
                "\tAND AN.PRIM_FIN_CLASS_NM = ('Medicare')\r\n",
                "\tAND T.PostingDate >= '2022-10-01'\r\n",
                "\tAND T.PostingDate < '2023-10-01'\r\n",
                "GROUP BY \r\n",
                "\tT.Revcode,\r\n",
                "\tRC.REVENUE_CODE_NAME\r\n",
                "ORDER BY \r\n",
                "\tTotalCharges DESC;\r\n",
                ""
            ],
            "metadata": {
                "azdata_cell_guid": "bd2d7aea-bf1d-4459-85bd-1847bb8b93d3",
                "language": "sql"
            },
            "outputs": [
                {
                    "output_type": "display_data",
                    "data": {
                        "text/html": "(1 row affected)"
                    },
                    "metadata": {}
                },
                {
                    "output_type": "display_data",
                    "data": {
                        "text/html": "Total execution time: 00:00:00.167"
                    },
                    "metadata": {}
                },
                {
                    "output_type": "execute_result",
                    "execution_count": 26,
                    "data": {
                        "application/vnd.dataresource+json": {
                            "schema": {
                                "fields": [
                                    {
                                        "name": "Revcode"
                                    },
                                    {
                                        "name": "RevenueCodeName"
                                    },
                                    {
                                        "name": "TotalCharges"
                                    }
                                ]
                            },
                            "data": [
                                {
                                    "Revcode": "0202",
                                    "RevenueCodeName": "INTENSIVE CARE-MEDICAL",
                                    "TotalCharges": "354744.00"
                                }
                            ]
                        },
                        "text/html": "<table><tr><th>Revcode</th><th>RevenueCodeName</th><th>TotalCharges</th></tr><tr><td>0202</td><td>INTENSIVE CARE-MEDICAL</td><td>354744.00</td></tr></table>"
                    },
                    "metadata": {}
                }
            ],
            "execution_count": 26
        },
        {
            "cell_type": "markdown",
            "source": [
                "Question 3\n",
                "\n",
                "Which provider generated the most gross charges for female patients in the first half of FY23 (Oct - Mar)?"
            ],
            "metadata": {
                "azdata_cell_guid": "e9a6c86a-0824-4fad-815a-8e1d502b58ba"
            },
            "attachments": {}
        },
        {
            "cell_type": "markdown",
            "source": [
                "Notes: \n",
                "\n",
                "To retrieve the Provider Description column, three joins are required.\n",
                "\n",
                "When joining the Account\\_Number table with the Provider table using VST\\_PROV\\_NPI, approximately 5,722 rows with blank VST\\_PROV\\_NPI values will be discarded. This is not a problem as the focus is on the top provider with the highest charges."
            ],
            "metadata": {
                "azdata_cell_guid": "f927cb50-d518-4832-af95-9cdc5a3242bd"
            },
            "attachments": {}
        },
        {
            "cell_type": "code",
            "source": [
                "SELECT TOP (1)\r\n",
                "    P.[Provider Description] AS ProviderDescription,\r\n",
                "    SUM(T.LineCharges) AS TotalCharges\r\n",
                "FROM\r\n",
                "    dbo.Transactions AS T\r\n",
                "    INNER JOIN dbo.Account_Number AS AN \r\n",
                "\t\t  ON T.ACCOUNT_NUMBER = AN.ACCOUNT_NUMBER\r\n",
                "    INNER JOIN dbo.Patient AS PT \r\n",
                "\t\t  ON AN.MRN = PT.MRN\r\n",
                "    INNER JOIN dbo.Provider AS P \r\n",
                "\t\t  ON AN.VST_PROV_NPI = P.NPI\r\n",
                "WHERE\r\n",
                "\tT.PostingDate >= '2022-10-01'\r\n",
                "    AND T.PostingDate < '2023-04-01'\r\n",
                "    AND PT.SEX = 'F'\r\n",
                "GROUP BY\r\n",
                "    P.[Provider Description]\r\n",
                "ORDER BY\r\n",
                "\tTotalCharges DESC;"
            ],
            "metadata": {
                "azdata_cell_guid": "ed89e7e1-d4cd-49b1-a508-d306823b0803",
                "language": "sql"
            },
            "outputs": [
                {
                    "output_type": "display_data",
                    "data": {
                        "text/html": "(1 row affected)"
                    },
                    "metadata": {}
                },
                {
                    "output_type": "display_data",
                    "data": {
                        "text/html": "Total execution time: 00:00:00.130"
                    },
                    "metadata": {}
                },
                {
                    "output_type": "execute_result",
                    "execution_count": 16,
                    "data": {
                        "application/vnd.dataresource+json": {
                            "schema": {
                                "fields": [
                                    {
                                        "name": "ProviderDescription"
                                    },
                                    {
                                        "name": "TotalCharges"
                                    }
                                ]
                            },
                            "data": [
                                {
                                    "ProviderDescription": "PROV_0951",
                                    "TotalCharges": "187397.97"
                                }
                            ]
                        },
                        "text/html": "<table><tr><th>ProviderDescription</th><th>TotalCharges</th></tr><tr><td>PROV_0951</td><td>187397.97</td></tr></table>"
                    },
                    "metadata": {}
                }
            ],
            "execution_count": 16
        },
        {
            "cell_type": "markdown",
            "source": [
                "Question 4\n",
                "\n",
                "How many unique patients were admitted to the hospital and incurred a room and board charge (defined via rev code) in FY23?"
            ],
            "metadata": {
                "language": "sql",
                "azdata_cell_guid": "df9b04d2-4107-4968-a06e-5640cb036553"
            },
            "attachments": {}
        },
        {
            "cell_type": "markdown",
            "source": [
                "Notes:\n",
                "\n",
                "To count the total number of unique patients based on admission, the Account\\_Number table is used. Joining with the Transactions table and then the Rev\\_Codes table allows retrieval of the REVENUE\\_CODE\\_NAME for filtering on the Room & Board revenue code.\n",
                "\n",
                "To ensure each patient is counted only once, the DISTINCT keyword is applied to the MRN column.\n",
                "\n",
                "Different approaches can be taken to filter on the room and board charge. One option is using the LIKE keyword on the \\[Revcode Desc\\] in the transactions table. Alternatively, the IN statement can be used after identifying the appropriate revenue codes. In this case, the LIKE keyword on the REVENUE\\_CODE\\_NAME is utilized to demonstrate the table relationships."
            ],
            "metadata": {
                "language": "sql",
                "azdata_cell_guid": "aa76523a-af59-49ab-bb6c-bb1b9865abc0"
            },
            "attachments": {}
        },
        {
            "cell_type": "code",
            "source": [
                "SELECT \r\n",
                "\tCOUNT(DISTINCT AN.MRN) AS UniquePatients\r\n",
                "FROM dbo.Account_Number AS AN\r\n",
                "\tINNER JOIN dbo.Transactions AS T \r\n",
                "\t\tON AN.ACCOUNT_NUMBER = T.ACCOUNT_NUMBER\r\n",
                "\tINNER JOIN dbo.Rev_Codes AS RC \r\n",
                "\t\tON T.Revcode = RC.REVENUE_CODE\r\n",
                "WHERE T.PostingDate >= '2022-10-01'\r\n",
                "    AND T.PostingDate < '2023-10-01'\r\n",
                "    AND RC.REVENUE_CODE_NAME LIKE 'ROOM & BOARD%';"
            ],
            "metadata": {
                "language": "sql",
                "azdata_cell_guid": "d08e6e28-f24d-4923-9cc2-4d527447266b"
            },
            "outputs": [
                {
                    "output_type": "display_data",
                    "data": {
                        "text/html": "(1 row affected)"
                    },
                    "metadata": {}
                },
                {
                    "output_type": "display_data",
                    "data": {
                        "text/html": "Total execution time: 00:00:00.074"
                    },
                    "metadata": {}
                },
                {
                    "output_type": "execute_result",
                    "execution_count": 20,
                    "data": {
                        "application/vnd.dataresource+json": {
                            "schema": {
                                "fields": [
                                    {
                                        "name": "UniquePatients"
                                    }
                                ]
                            },
                            "data": [
                                {
                                    "UniquePatients": "375"
                                }
                            ]
                        },
                        "text/html": "<table><tr><th>UniquePatients</th></tr><tr><td>375</td></tr></table>"
                    },
                    "metadata": {}
                }
            ],
            "execution_count": 20
        },
        {
            "cell_type": "markdown",
            "source": [
                "Question 5\n",
                "\n",
                "What month had the most inpatient account volume where total charges per account were \\>$25,000?"
            ],
            "metadata": {
                "language": "sql",
                "azdata_cell_guid": "4e2c5814-df7c-4544-8c58-9a5fcd9ce64b"
            },
            "attachments": {}
        },
        {
            "cell_type": "markdown",
            "source": [
                "Notes: \n",
                "\n",
                "In this query, there are a few important assumptions made:\n",
                "\n",
                "1. The ACCT\\_DICSH\\_DT column is assumed to represent the month since the question does not explicitly mention which date field to use. It's important to note that using a different date field may yield different results.\n",
                "    \n",
                "2. The TOT\\_CHGS column is chosen as the basis for the WHERE statement. The focus of the question is on inpatient account volumes, not specific details such as transactions, posting dates, CPT codes, or revenue codes. Using the TOT\\_CHGS column as a filter is considered safe because it aligns with the total in the Transactions table.\n",
                "    \n",
                "3. The VISIT\\_BASECLS\\_NM column is assumed to be the most suitable for filtering inpatient accounts. This choice is based on the limited number of options in the column, which makes grouping and analysis more straightforward."
            ],
            "metadata": {
                "language": "sql",
                "azdata_cell_guid": "240b729e-d370-4a4a-8b3b-f844800cd38e"
            },
            "attachments": {}
        },
        {
            "cell_type": "code",
            "source": [
                "SELECT TOP (1)\r\n",
                "\tDATENAME(MONTH, ACCT_DISCH_DT) AS DischargeMonth,\r\n",
                "\tCOUNT(DISTINCT ACCOUNT_NUMBER) AS AccountVolume\r\n",
                "FROM dbo.Account_Number AS AN\r\n",
                "WHERE \r\n",
                "\tTOT_CHGS > 25000\r\n",
                "\tAND VISIT_BASECLS_NM = 'Inpatient'\r\n",
                "GROUP BY\r\n",
                "\tDATENAME(MONTH, ACCT_DISCH_DT)\r\n",
                "ORDER BY AccountVolume DESC;\r\n",
                "\t"
            ],
            "metadata": {
                "language": "sql",
                "azdata_cell_guid": "87fb0fcb-6acf-4570-bf24-dd6b35f065e4"
            },
            "outputs": [
                {
                    "output_type": "display_data",
                    "data": {
                        "text/html": "(1 row affected)"
                    },
                    "metadata": {}
                },
                {
                    "output_type": "display_data",
                    "data": {
                        "text/html": "Total execution time: 00:00:00.028"
                    },
                    "metadata": {}
                },
                {
                    "output_type": "execute_result",
                    "execution_count": 14,
                    "data": {
                        "application/vnd.dataresource+json": {
                            "schema": {
                                "fields": [
                                    {
                                        "name": "DischargeMonth"
                                    },
                                    {
                                        "name": "AccountVolume"
                                    }
                                ]
                            },
                            "data": [
                                {
                                    "DischargeMonth": "March",
                                    "AccountVolume": "33"
                                }
                            ]
                        },
                        "text/html": "<table><tr><th>DischargeMonth</th><th>AccountVolume</th></tr><tr><td>March</td><td>33</td></tr></table>"
                    },
                    "metadata": {}
                }
            ],
            "execution_count": 14
        },
        {
            "cell_type": "markdown",
            "source": [
                "Bonus 1 \n",
                "\n",
                "Create a script that will be accessed by Tableau that includes the following fields: \n",
                "\n",
                "|  |\n",
                "| --- |\n",
                "| Account Number |\n",
                "| Rev Code |\n",
                "| Rev Code Description |\n",
                "| Age at Admission |\n",
                "| Adm Date |\n",
                "| Disch Date |\n",
                "| CPT Code |\n",
                "| Visit Provider |\n",
                "| Visit Provider Description |\n",
                "| Total Charges |"
            ],
            "metadata": {
                "language": "sql",
                "azdata_cell_guid": "c883d438-2be9-48b2-bba2-f9d73bbcb59f"
            },
            "attachments": {}
        },
        {
            "cell_type": "markdown",
            "source": [
                "Notes:\n",
                "\n",
                "The best option is to create a view to allow Tableau to connect to said view. Views offer a variety of benefits such as data consistency, security, performance, and ease of use.\n",
                "\n",
                "Utilized a LEFT OUTER JOIN on Provider table to ensure that all records from the Transactions and Account\\_Number tables are included in the view."
            ],
            "metadata": {
                "language": "sql",
                "azdata_cell_guid": "e66c58ef-ead2-44aa-a1dc-d980ff775160"
            },
            "attachments": {}
        },
        {
            "cell_type": "code",
            "source": [
                "CREATE VIEW dbo.vTableau\r\n",
                "AS\r\n",
                "SELECT\r\n",
                "    AN.ACCOUNT_NUMBER AS [Account Number],\r\n",
                "    T.Revcode AS [Rev Code],\r\n",
                "    T.[RevCode Desc] AS [Revenue Code Description],\r\n",
                "\tDATEDIFF(year, P.BIRTH_DT, AN.ACCT_ADMIT_DT) AS [Age at Admission],\r\n",
                "    AN.ACCT_ADMIT_DT AS [Adm Date],\r\n",
                "    AN.ACCT_DISCH_DT AS [Disch Date],\r\n",
                "    T.CPT AS [CPT Code],\r\n",
                "    PN.[Provider Description] AS [Visit Provider],\r\n",
                "    PN.[EPIC_PROV_TYPE_NM] AS [Visit Provider Description],\r\n",
                "    SUM(T.LineCharges) AS [Total Charges]\r\n",
                "FROM dbo.Transactions AS T\r\n",
                "    INNER JOIN dbo.Account_Number AS AN\r\n",
                "        ON T.ACCOUNT_NUMBER = AN.ACCOUNT_NUMBER\r\n",
                "    LEFT OUTER JOIN dbo.Provider AS PN\r\n",
                "        ON AN.VST_PROV_NPI = PN.NPI\r\n",
                "    INNER JOIN dbo.Patient AS P\r\n",
                "        ON AN.MRN = P.MRN\r\n",
                "GROUP BY \r\n",
                "    AN.ACCOUNT_NUMBER,\r\n",
                "    T.Revcode,\r\n",
                "    T.[RevCode Desc],\r\n",
                "\tP.BIRTH_DT,\r\n",
                "    AN.ACCT_ADMIT_DT,\r\n",
                "    AN.ACCT_DISCH_DT,\r\n",
                "    T.CPT,\r\n",
                "    PN.[Provider Description],\r\n",
                "    PN.[EPIC_PROV_TYPE_NM];"
            ],
            "metadata": {
                "language": "sql",
                "azdata_cell_guid": "21f8fcb3-4b9a-423d-8fce-248d24397ac2"
            },
            "outputs": [
                {
                    "output_type": "display_data",
                    "data": {
                        "text/html": "Commands completed successfully."
                    },
                    "metadata": {}
                },
                {
                    "output_type": "display_data",
                    "data": {
                        "text/html": "Total execution time: 00:00:00"
                    },
                    "metadata": {}
                }
            ],
            "execution_count": 10
        },
        {
            "cell_type": "markdown",
            "source": [
                "Bonus 2\n",
                "\n",
                "Create a database design map of all these data elements and how you think they would look in the database"
            ],
            "metadata": {
                "language": "sql",
                "azdata_cell_guid": "e1189853-4bd6-41db-8f0b-02cdf16d8465"
            },
            "attachments": {}
        },
        {
            "cell_type": "markdown",
            "source": [
                "This is included as a jpeg in the github repository labeled: SQL\\_DEVELOPER\\_SAMPLE.jpeg"
            ],
            "metadata": {
                "language": "sql",
                "azdata_cell_guid": "46450b3f-36a3-4325-8e3c-402a5c9ef244"
            },
            "attachments": {}
        }
    ]
}